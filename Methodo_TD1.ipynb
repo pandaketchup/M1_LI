{
 "cells": [
  {
   "cell_type": "code",
   "execution_count": 1,
   "metadata": {},
   "outputs": [
    {
     "name": "stdout",
     "output_type": "stream",
     "text": [
      "Oui, repondit-il, j'aime bien les oeufs durs.\n",
      "Oui, repondit-il,\n",
      "j'aime bien\n",
      "les oeufs durs.\n",
      "Oui, repondit-il,__j'aime bien__les oeufs durs.\n"
     ]
    }
   ],
   "source": [
    "phrase1 = \"les oeufs durs.\"\n",
    "phrase2 = \"Oui, repondit-il,\"\n",
    "phrase3 = \"j'aime bien\"\n",
    "print(phrase2, phrase3, phrase1)\n",
    "\n",
    "print(phrase2)\n",
    "print(phrase3)\n",
    "print(phrase1)\n",
    "\n",
    "print(phrase2+\"__\"+phrase3+\"__\"+phrase1)"
   ]
  },
  {
   "cell_type": "code",
   "execution_count": 2,
   "metadata": {},
   "outputs": [
    {
     "name": "stdout",
     "output_type": "stream",
     "text": [
      "Oui, repondit-il,__j'aime bien__les oeufs durs.\n",
      "Oui, repondit-il,--j'aime bien--les oeufs durs.\n",
      "Les cafe coûtent 0.46 euros\n"
     ]
    }
   ],
   "source": [
    "print(\"%s__%s__%s\"%(phrase2, phrase3, phrase1))\n",
    "\n",
    "print(\"{}--{}--{}\".format(phrase2, phrase3, phrase1))\n",
    "produit = \"cafe\"\n",
    "prix = 0.456\n",
    "print(\"Les %s coûtent %.2f euros\" % (produit, prix))"
   ]
  },
  {
   "cell_type": "code",
   "execution_count": 3,
   "metadata": {},
   "outputs": [
    {
     "name": "stdout",
     "output_type": "stream",
     "text": [
      "Oui, repondit-il,\tj'aime bien\n",
      "les oeufs durs.\n",
      "Oui, repondit-il,\tj'aime bien\n",
      "les oeufs durs.\n"
     ]
    }
   ],
   "source": [
    "print(phrase2 + \"\\t\"+phrase3+\"\\n\"+phrase1)\n",
    "print(\"%s\\t%s\\n%s\"%(phrase2, phrase3, phrase1))"
   ]
  },
  {
   "cell_type": "code",
   "execution_count": 4,
   "metadata": {},
   "outputs": [
    {
     "name": "stdout",
     "output_type": "stream",
     "text": [
      "Le cafe coûte \n",
      "\t 0.46 euros sans sucre\n",
      "\t idem avec\n"
     ]
    }
   ],
   "source": [
    "print(\"Le %s coûte \\n\\t %.2f euros sans sucre\\n\\t idem avec\"%(produit, prix))"
   ]
  },
  {
   "cell_type": "code",
   "execution_count": 5,
   "metadata": {},
   "outputs": [],
   "source": [
    "toto = 'N\\'est-ce pas?'"
   ]
  },
  {
   "cell_type": "code",
   "execution_count": 6,
   "metadata": {},
   "outputs": [
    {
     "name": "stdout",
     "output_type": "stream",
     "text": [
      "N'est-ce pas?\n"
     ]
    }
   ],
   "source": [
    "print(toto)"
   ]
  },
  {
   "cell_type": "code",
   "execution_count": 7,
   "metadata": {},
   "outputs": [
    {
     "name": "stdout",
     "output_type": "stream",
     "text": [
      "S p\n"
     ]
    }
   ],
   "source": [
    "ch = \"Stephanie mange.\"\n",
    "print(ch[0], ch[3])"
   ]
  },
  {
   "cell_type": "code",
   "execution_count": 8,
   "metadata": {},
   "outputs": [
    {
     "name": "stdout",
     "output_type": "stream",
     "text": [
      "16\n"
     ]
    }
   ],
   "source": [
    "print(len(ch))"
   ]
  },
  {
   "cell_type": "code",
   "execution_count": 10,
   "metadata": {},
   "outputs": [
    {
     "name": "stdout",
     "output_type": "stream",
     "text": [
      "8045\n"
     ]
    }
   ],
   "source": [
    "ch = \"8000\"\n",
    "n = 45\n",
    "ch = int(ch)\n",
    "print(ch+n)"
   ]
  },
  {
   "cell_type": "code",
   "execution_count": 12,
   "metadata": {},
   "outputs": [
    {
     "name": "stdout",
     "output_type": "stream",
     "text": [
      "bonjourbonjourbonjourbonjourbonjour\n"
     ]
    }
   ],
   "source": [
    "s = \"bonjour\"\n",
    "n = 5\n",
    "print(s*n)"
   ]
  },
  {
   "cell_type": "code",
   "execution_count": 13,
   "metadata": {},
   "outputs": [
    {
     "name": "stdout",
     "output_type": "stream",
     "text": [
      "['lundi', 'mardi', 'mercredi', 1800, 20.357, 'jeudi', 'vendredi']\n"
     ]
    }
   ],
   "source": [
    "jour = [\"lundi\", \"mardi\", \"mercredi\", 1800, 20.357, \"jeudi\", \"vendredi\"]\n",
    "print(jour)"
   ]
  },
  {
   "cell_type": "code",
   "execution_count": 14,
   "metadata": {},
   "outputs": [
    {
     "name": "stdout",
     "output_type": "stream",
     "text": [
      "mercredi\n"
     ]
    }
   ],
   "source": [
    "print(jour[2])"
   ]
  },
  {
   "cell_type": "code",
   "execution_count": 15,
   "metadata": {},
   "outputs": [
    {
     "name": "stdout",
     "output_type": "stream",
     "text": [
      "lundi\n",
      "mardi\n",
      "mercredi\n",
      "1800\n",
      "20.357\n",
      "jeudi\n",
      "vendredi\n"
     ]
    }
   ],
   "source": [
    "for toto in jour:\n",
    "    print(toto)"
   ]
  },
  {
   "cell_type": "code",
   "execution_count": 16,
   "metadata": {},
   "outputs": [
    {
     "name": "stdout",
     "output_type": "stream",
     "text": [
      "lundi <class 'str'>\n",
      "mardi <class 'str'>\n",
      "mercredi <class 'str'>\n",
      "1800 <class 'int'>\n",
      "20.357 <class 'float'>\n",
      "jeudi <class 'str'>\n",
      "vendredi <class 'str'>\n"
     ]
    }
   ],
   "source": [
    "for toto in jour:\n",
    "    print(toto, type(toto))"
   ]
  },
  {
   "cell_type": "code",
   "execution_count": 17,
   "metadata": {},
   "outputs": [],
   "source": [
    "jour[3] = \"juillet\""
   ]
  },
  {
   "cell_type": "code",
   "execution_count": 18,
   "metadata": {},
   "outputs": [
    {
     "data": {
      "text/plain": [
       "7"
      ]
     },
     "execution_count": 18,
     "metadata": {},
     "output_type": "execute_result"
    }
   ],
   "source": [
    "len(jour)"
   ]
  },
  {
   "cell_type": "code",
   "execution_count": 19,
   "metadata": {},
   "outputs": [],
   "source": [
    "del(jour[4])"
   ]
  },
  {
   "cell_type": "code",
   "execution_count": 20,
   "metadata": {},
   "outputs": [
    {
     "name": "stdout",
     "output_type": "stream",
     "text": [
      "['lundi', 'mardi', 'mercredi', 'juillet', 'jeudi', 'vendredi']\n"
     ]
    }
   ],
   "source": [
    "print(jour)"
   ]
  },
  {
   "cell_type": "code",
   "execution_count": 22,
   "metadata": {},
   "outputs": [],
   "source": [
    "jour.append(\"samedi\")"
   ]
  },
  {
   "cell_type": "code",
   "execution_count": 24,
   "metadata": {},
   "outputs": [
    {
     "name": "stdout",
     "output_type": "stream",
     "text": [
      "veuillez entrer un nombre positif quelconque\n",
      "5\n",
      "Le carré de 5 vaut 25\n"
     ]
    }
   ],
   "source": [
    "print(\"veuillez entrer un nombre positif quelconque\")\n",
    "nn = int(input())\n",
    "print(\"Le carré de\", nn, \"vaut\", nn**2)"
   ]
  },
  {
   "cell_type": "code",
   "execution_count": 25,
   "metadata": {},
   "outputs": [
    {
     "name": "stdout",
     "output_type": "stream",
     "text": [
      "entrez votre prénom (entre guillemets) : \"Célia\"\n",
      "bonjour \"Célia\"\n"
     ]
    }
   ],
   "source": [
    "prenom = input(\"entrez votre prénom (entre guillemets) : \")\n",
    "print(\"bonjour\", prenom)"
   ]
  },
  {
   "cell_type": "code",
   "execution_count": 26,
   "metadata": {},
   "outputs": [
    {
     "name": "stdout",
     "output_type": "stream",
     "text": [
      "racine carrée de 121 = 11.0\n",
      "sinus de 0.5235987755982988 radians = 0.49999999999999994\n"
     ]
    }
   ],
   "source": [
    "from math import *\n",
    "nombre = 121\n",
    "print(\"racine carrée de\", nombre, \"=\", sqrt(nombre))\n",
    "angle = pi/6\n",
    "print(\"sinus de\", angle, \"radians\", \"=\", sin(angle))"
   ]
  },
  {
   "cell_type": "code",
   "execution_count": 29,
   "metadata": {},
   "outputs": [
    {
     "name": "stdout",
     "output_type": "stream",
     "text": [
      "Veuillez entrer une phrase : Le chat blanc mange du fromage.\n",
      "Entrez le caractère à compter : a\n",
      "La phrase contient 4 caractères a\n"
     ]
    }
   ],
   "source": [
    "phr = input(\"Veuillez entrer une phrase : \")\n",
    "cch = input(\"Entrez le caractère à compter : \")\n",
    "nc = i = 0\n",
    "while i < len(phr):\n",
    "    if phr[i] == cch:\n",
    "        nc = nc + 1\n",
    "    i += 1\n",
    "print(\"La phrase contient\", nc, \"caractères\", cch)"
   ]
  },
  {
   "cell_type": "code",
   "execution_count": 34,
   "metadata": {},
   "outputs": [],
   "source": [
    "def table7():\n",
    "    n = 1\n",
    "    while n <= 10:\n",
    "        print(n * 7)\n",
    "        n = n + 1"
   ]
  },
  {
   "cell_type": "code",
   "execution_count": 35,
   "metadata": {},
   "outputs": [
    {
     "name": "stdout",
     "output_type": "stream",
     "text": [
      "7\n",
      "14\n",
      "21\n",
      "28\n",
      "35\n",
      "42\n",
      "49\n",
      "56\n",
      "63\n",
      "70\n"
     ]
    }
   ],
   "source": [
    "table7()"
   ]
  },
  {
   "cell_type": "code",
   "execution_count": 36,
   "metadata": {},
   "outputs": [],
   "source": [
    "def table(base):\n",
    "    n = 1\n",
    "    while n < 11:\n",
    "        print(n * base)\n",
    "        n += 1"
   ]
  },
  {
   "cell_type": "code",
   "execution_count": 38,
   "metadata": {},
   "outputs": [
    {
     "name": "stdout",
     "output_type": "stream",
     "text": [
      "\n",
      "Table de 1\n",
      "1\n",
      "2\n",
      "3\n",
      "4\n",
      "5\n",
      "6\n",
      "7\n",
      "8\n",
      "9\n",
      "10\n",
      "\n",
      "Table de 2\n",
      "2\n",
      "4\n",
      "6\n",
      "8\n",
      "10\n",
      "12\n",
      "14\n",
      "16\n",
      "18\n",
      "20\n",
      "\n",
      "Table de 3\n",
      "3\n",
      "6\n",
      "9\n",
      "12\n",
      "15\n",
      "18\n",
      "21\n",
      "24\n",
      "27\n",
      "30\n",
      "\n",
      "Table de 4\n",
      "4\n",
      "8\n",
      "12\n",
      "16\n",
      "20\n",
      "24\n",
      "28\n",
      "32\n",
      "36\n",
      "40\n",
      "\n",
      "Table de 5\n",
      "5\n",
      "10\n",
      "15\n",
      "20\n",
      "25\n",
      "30\n",
      "35\n",
      "40\n",
      "45\n",
      "50\n",
      "\n",
      "Table de 6\n",
      "6\n",
      "12\n",
      "18\n",
      "24\n",
      "30\n",
      "36\n",
      "42\n",
      "48\n",
      "54\n",
      "60\n",
      "\n",
      "Table de 7\n",
      "7\n",
      "14\n",
      "21\n",
      "28\n",
      "35\n",
      "42\n",
      "49\n",
      "56\n",
      "63\n",
      "70\n",
      "\n",
      "Table de 8\n",
      "8\n",
      "16\n",
      "24\n",
      "32\n",
      "40\n",
      "48\n",
      "56\n",
      "64\n",
      "72\n",
      "80\n",
      "\n",
      "Table de 9\n",
      "9\n",
      "18\n",
      "27\n",
      "36\n",
      "45\n",
      "54\n",
      "63\n",
      "72\n",
      "81\n",
      "90\n",
      "\n",
      "Table de 10\n",
      "10\n",
      "20\n",
      "30\n",
      "40\n",
      "50\n",
      "60\n",
      "70\n",
      "80\n",
      "90\n",
      "100\n",
      "\n",
      "Table de 11\n",
      "11\n",
      "22\n",
      "33\n",
      "44\n",
      "55\n",
      "66\n",
      "77\n",
      "88\n",
      "99\n",
      "110\n",
      "\n",
      "Table de 12\n",
      "12\n",
      "24\n",
      "36\n",
      "48\n",
      "60\n",
      "72\n",
      "84\n",
      "96\n",
      "108\n",
      "120\n",
      "\n",
      "Table de 13\n",
      "13\n",
      "26\n",
      "39\n",
      "52\n",
      "65\n",
      "78\n",
      "91\n",
      "104\n",
      "117\n",
      "130\n",
      "\n",
      "Table de 14\n",
      "14\n",
      "28\n",
      "42\n",
      "56\n",
      "70\n",
      "84\n",
      "98\n",
      "112\n",
      "126\n",
      "140\n",
      "\n",
      "Table de 15\n",
      "15\n",
      "30\n",
      "45\n",
      "60\n",
      "75\n",
      "90\n",
      "105\n",
      "120\n",
      "135\n",
      "150\n",
      "\n",
      "Table de 16\n",
      "16\n",
      "32\n",
      "48\n",
      "64\n",
      "80\n",
      "96\n",
      "112\n",
      "128\n",
      "144\n",
      "160\n",
      "\n",
      "Table de 17\n",
      "17\n",
      "34\n",
      "51\n",
      "68\n",
      "85\n",
      "102\n",
      "119\n",
      "136\n",
      "153\n",
      "170\n",
      "\n",
      "Table de 18\n",
      "18\n",
      "36\n",
      "54\n",
      "72\n",
      "90\n",
      "108\n",
      "126\n",
      "144\n",
      "162\n",
      "180\n",
      "\n",
      "Table de 19\n",
      "19\n",
      "38\n",
      "57\n",
      "76\n",
      "95\n",
      "114\n",
      "133\n",
      "152\n",
      "171\n",
      "190\n",
      "\n",
      "Table de 20\n",
      "20\n",
      "40\n",
      "60\n",
      "80\n",
      "100\n",
      "120\n",
      "140\n",
      "160\n",
      "180\n",
      "200\n"
     ]
    }
   ],
   "source": [
    "a = 1\n",
    "while a <= 20:\n",
    "    print(\"\\nTable de\", a)\n",
    "    table(a)\n",
    "    a +=1"
   ]
  },
  {
   "cell_type": "code",
   "execution_count": 39,
   "metadata": {},
   "outputs": [
    {
     "name": "stdout",
     "output_type": "stream",
     "text": [
      "c\n",
      "h\n",
      "a\n",
      "t\n"
     ]
    }
   ],
   "source": [
    "def epeler(mot):\n",
    "    for m in mot:\n",
    "        print(m)\n",
    "epeler(\"chat\")"
   ]
  },
  {
   "cell_type": "code",
   "execution_count": 40,
   "metadata": {},
   "outputs": [],
   "source": [
    "def tableMulti(base, debut, fin):\n",
    "    print(\"Fragment de la table de multiplication par\", base)\n",
    "    n = debut\n",
    "    while(n <= fin):\n",
    "        print(n, 'x', base, '=', n * base)\n",
    "        n += 1"
   ]
  },
  {
   "cell_type": "code",
   "execution_count": 41,
   "metadata": {},
   "outputs": [
    {
     "name": "stdout",
     "output_type": "stream",
     "text": [
      "Fragment de la table de multiplication par 5\n",
      "1 x 5 = 5\n",
      "2 x 5 = 10\n",
      "3 x 5 = 15\n",
      "4 x 5 = 20\n",
      "5 x 5 = 25\n",
      "6 x 5 = 30\n",
      "7 x 5 = 35\n",
      "8 x 5 = 40\n",
      "9 x 5 = 45\n",
      "10 x 5 = 50\n"
     ]
    }
   ],
   "source": [
    "tableMulti(5, 1, 10)"
   ]
  },
  {
   "cell_type": "code",
   "execution_count": 42,
   "metadata": {},
   "outputs": [
    {
     "name": "stdout",
     "output_type": "stream",
     "text": [
      "Fragment de la table de multiplication par 11\n",
      "5 x 11 = 55\n",
      "6 x 11 = 66\n",
      "7 x 11 = 77\n",
      "8 x 11 = 88\n",
      "9 x 11 = 99\n",
      "10 x 11 = 110\n",
      "Fragment de la table de multiplication par 12\n",
      "8 x 12 = 96\n",
      "9 x 12 = 108\n",
      "10 x 12 = 120\n",
      "11 x 12 = 132\n",
      "12 x 12 = 144\n",
      "13 x 12 = 156\n",
      "14 x 12 = 168\n",
      "15 x 12 = 180\n",
      "Fragment de la table de multiplication par 13\n",
      "11 x 13 = 143\n",
      "12 x 13 = 156\n",
      "13 x 13 = 169\n",
      "14 x 13 = 182\n",
      "15 x 13 = 195\n",
      "16 x 13 = 208\n",
      "17 x 13 = 221\n",
      "18 x 13 = 234\n",
      "19 x 13 = 247\n",
      "20 x 13 = 260\n",
      "Fragment de la table de multiplication par 14\n",
      "14 x 14 = 196\n",
      "15 x 14 = 210\n",
      "16 x 14 = 224\n",
      "17 x 14 = 238\n",
      "18 x 14 = 252\n",
      "19 x 14 = 266\n",
      "20 x 14 = 280\n",
      "21 x 14 = 294\n",
      "22 x 14 = 308\n",
      "23 x 14 = 322\n",
      "24 x 14 = 336\n",
      "25 x 14 = 350\n",
      "Fragment de la table de multiplication par 15\n",
      "17 x 15 = 255\n",
      "18 x 15 = 270\n",
      "19 x 15 = 285\n",
      "20 x 15 = 300\n",
      "21 x 15 = 315\n",
      "22 x 15 = 330\n",
      "23 x 15 = 345\n",
      "24 x 15 = 360\n",
      "25 x 15 = 375\n",
      "26 x 15 = 390\n",
      "27 x 15 = 405\n",
      "28 x 15 = 420\n",
      "29 x 15 = 435\n",
      "30 x 15 = 450\n",
      "Fragment de la table de multiplication par 16\n",
      "20 x 16 = 320\n",
      "21 x 16 = 336\n",
      "22 x 16 = 352\n",
      "23 x 16 = 368\n",
      "24 x 16 = 384\n",
      "25 x 16 = 400\n",
      "26 x 16 = 416\n",
      "27 x 16 = 432\n",
      "28 x 16 = 448\n",
      "29 x 16 = 464\n",
      "30 x 16 = 480\n",
      "31 x 16 = 496\n",
      "32 x 16 = 512\n",
      "33 x 16 = 528\n",
      "34 x 16 = 544\n",
      "35 x 16 = 560\n",
      "Fragment de la table de multiplication par 17\n",
      "23 x 17 = 391\n",
      "24 x 17 = 408\n",
      "25 x 17 = 425\n",
      "26 x 17 = 442\n",
      "27 x 17 = 459\n",
      "28 x 17 = 476\n",
      "29 x 17 = 493\n",
      "30 x 17 = 510\n",
      "31 x 17 = 527\n",
      "32 x 17 = 544\n",
      "33 x 17 = 561\n",
      "34 x 17 = 578\n",
      "35 x 17 = 595\n",
      "36 x 17 = 612\n",
      "37 x 17 = 629\n",
      "38 x 17 = 646\n",
      "39 x 17 = 663\n",
      "40 x 17 = 680\n",
      "Fragment de la table de multiplication par 18\n",
      "26 x 18 = 468\n",
      "27 x 18 = 486\n",
      "28 x 18 = 504\n",
      "29 x 18 = 522\n",
      "30 x 18 = 540\n",
      "31 x 18 = 558\n",
      "32 x 18 = 576\n",
      "33 x 18 = 594\n",
      "34 x 18 = 612\n",
      "35 x 18 = 630\n",
      "36 x 18 = 648\n",
      "37 x 18 = 666\n",
      "38 x 18 = 684\n",
      "39 x 18 = 702\n",
      "40 x 18 = 720\n",
      "41 x 18 = 738\n",
      "42 x 18 = 756\n",
      "43 x 18 = 774\n",
      "44 x 18 = 792\n",
      "45 x 18 = 810\n",
      "Fragment de la table de multiplication par 19\n",
      "29 x 19 = 551\n",
      "30 x 19 = 570\n",
      "31 x 19 = 589\n",
      "32 x 19 = 608\n",
      "33 x 19 = 627\n",
      "34 x 19 = 646\n",
      "35 x 19 = 665\n",
      "36 x 19 = 684\n",
      "37 x 19 = 703\n",
      "38 x 19 = 722\n",
      "39 x 19 = 741\n",
      "40 x 19 = 760\n",
      "41 x 19 = 779\n",
      "42 x 19 = 798\n",
      "43 x 19 = 817\n",
      "44 x 19 = 836\n",
      "45 x 19 = 855\n",
      "46 x 19 = 874\n",
      "47 x 19 = 893\n",
      "48 x 19 = 912\n",
      "49 x 19 = 931\n",
      "50 x 19 = 950\n",
      "Fragment de la table de multiplication par 20\n",
      "32 x 20 = 640\n",
      "33 x 20 = 660\n",
      "34 x 20 = 680\n",
      "35 x 20 = 700\n",
      "36 x 20 = 720\n",
      "37 x 20 = 740\n",
      "38 x 20 = 760\n",
      "39 x 20 = 780\n",
      "40 x 20 = 800\n",
      "41 x 20 = 820\n",
      "42 x 20 = 840\n",
      "43 x 20 = 860\n",
      "44 x 20 = 880\n",
      "45 x 20 = 900\n",
      "46 x 20 = 920\n",
      "47 x 20 = 940\n",
      "48 x 20 = 960\n",
      "49 x 20 = 980\n",
      "50 x 20 = 1000\n",
      "51 x 20 = 1020\n",
      "52 x 20 = 1040\n",
      "53 x 20 = 1060\n",
      "54 x 20 = 1080\n",
      "55 x 20 = 1100\n"
     ]
    }
   ],
   "source": [
    "t, d, f = 11, 5, 10\n",
    "while(t < 21):\n",
    "    tableMulti(t, d, f)\n",
    "    t, d, f = t+1, d+3, f+5"
   ]
  },
  {
   "cell_type": "code",
   "execution_count": 48,
   "metadata": {},
   "outputs": [],
   "source": [
    "def stop_lettre(stri, char):\n",
    "    for s in stri:\n",
    "        if(s == char):\n",
    "            break\n",
    "        print(s)"
   ]
  },
  {
   "cell_type": "code",
   "execution_count": 49,
   "metadata": {},
   "outputs": [
    {
     "name": "stdout",
     "output_type": "stream",
     "text": [
      "l\n",
      "e\n",
      " \n",
      "c\n",
      "h\n"
     ]
    }
   ],
   "source": [
    "stop_lettre(\"le chat\", \"a\")"
   ]
  },
  {
   "cell_type": "code",
   "execution_count": 50,
   "metadata": {},
   "outputs": [],
   "source": [
    "def politesse(nom, vedette = 'Monsieur'):\n",
    "    print(\"Veuillez agréer,\", vedette, nom, \", mes salutations distinguées\")"
   ]
  },
  {
   "cell_type": "code",
   "execution_count": 51,
   "metadata": {},
   "outputs": [
    {
     "name": "stdout",
     "output_type": "stream",
     "text": [
      "Veuillez agréer, Mademoiselle Célia , mes salutations distinguées\n"
     ]
    }
   ],
   "source": [
    "politesse(\"Célia\", \"Mademoiselle\")"
   ]
  },
  {
   "cell_type": "code",
   "execution_count": 52,
   "metadata": {},
   "outputs": [],
   "source": [
    "def multi(nb1, nb2 = 10):\n",
    "    print(nb1*nb2)"
   ]
  },
  {
   "cell_type": "code",
   "execution_count": 53,
   "metadata": {},
   "outputs": [
    {
     "name": "stdout",
     "output_type": "stream",
     "text": [
      "50\n"
     ]
    }
   ],
   "source": [
    "multi(5)"
   ]
  },
  {
   "cell_type": "code",
   "execution_count": 54,
   "metadata": {},
   "outputs": [
    {
     "name": "stdout",
     "output_type": "stream",
     "text": [
      "bonsoir\n"
     ]
    }
   ],
   "source": [
    "def f(s):\n",
    "    print(s)\n",
    "f(\"bonsoir\")"
   ]
  },
  {
   "cell_type": "code",
   "execution_count": 58,
   "metadata": {},
   "outputs": [],
   "source": [
    "def f(n):\n",
    "    n = n*2\n",
    "    return n"
   ]
  },
  {
   "cell_type": "code",
   "execution_count": 59,
   "metadata": {},
   "outputs": [
    {
     "name": "stdout",
     "output_type": "stream",
     "text": [
      "6\n"
     ]
    }
   ],
   "source": [
    "print(f(3))"
   ]
  },
  {
   "cell_type": "code",
   "execution_count": 62,
   "metadata": {},
   "outputs": [],
   "source": [
    "def table(base):\n",
    "    result = []\n",
    "    n = 1\n",
    "    while(n < 11):\n",
    "        b = n * base\n",
    "        result.append(b)\n",
    "        n += 1\n",
    "    return(result)"
   ]
  },
  {
   "cell_type": "code",
   "execution_count": 63,
   "metadata": {},
   "outputs": [
    {
     "data": {
      "text/plain": [
       "[5, 10, 15, 20, 25, 30, 35, 40, 45, 50]"
      ]
     },
     "execution_count": 63,
     "metadata": {},
     "output_type": "execute_result"
    }
   ],
   "source": [
    "table(5)"
   ]
  }
 ],
 "metadata": {
  "kernelspec": {
   "display_name": "Python 3",
   "language": "python",
   "name": "python3"
  },
  "language_info": {
   "codemirror_mode": {
    "name": "ipython",
    "version": 3
   },
   "file_extension": ".py",
   "mimetype": "text/x-python",
   "name": "python",
   "nbconvert_exporter": "python",
   "pygments_lexer": "ipython3",
   "version": "3.6.5"
  }
 },
 "nbformat": 4,
 "nbformat_minor": 2
}
